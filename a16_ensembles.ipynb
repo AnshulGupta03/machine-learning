{
 "cells": [
  {
   "cell_type": "code",
   "execution_count": 11,
   "metadata": {},
   "outputs": [],
   "source": [
    "#Question 1.\n",
    "#loading the wine dataset \n",
    "\n",
    "from sklearn.datasets import load_wine\n",
    "dataset = load_wine()\n",
    "x = dataset.data[:-10]\n",
    "y = dataset.target[:-10]\n",
    "\n",
    "from sklearn.model_selection import train_test_split\n",
    "X_train, X_test, y_train, y_test = train_test_split(x,y,test_size = 0.25,random_state = 0)\n",
    "\n"
   ]
  },
  {
   "cell_type": "code",
   "execution_count": 23,
   "metadata": {},
   "outputs": [
    {
     "name": "stdout",
     "output_type": "stream",
     "text": [
      "accuracy score: 0.9523809523809523\n",
      "\n",
      "\n",
      "confusion matrix:\n",
      " [[14  0  0]\n",
      " [ 1 16  0]\n",
      " [ 0  1 10]]\n"
     ]
    }
   ],
   "source": [
    "#Stochastic Gradient Boosting Classification\n",
    "\n",
    "from sklearn.ensemble import GradientBoostingClassifier\n",
    "gbdt = GradientBoostingClassifier()\n",
    "gbdt.fit(X_train, y_train)\n",
    "\n",
    "y_pred = gbdt.predict(X_test)\n",
    "\n",
    "from sklearn import metrics\n",
    "acc_score = metrics.accuracy_score(y_test, y_pred)\n",
    "print(\"accuracy score:\",acc_score)\n",
    "\n",
    "# confusion matrix\n",
    "con_metrics = metrics.confusion_matrix(y_test, y_pred)\n",
    "print(\"\\n\\nconfusion matrix:\\n\",con_metrics)"
   ]
  },
  {
   "cell_type": "code",
   "execution_count": 24,
   "metadata": {},
   "outputs": [
    {
     "name": "stdout",
     "output_type": "stream",
     "text": [
      "accuracy score: 0.9285714285714286\n",
      "\n",
      "\n",
      "confusion matrix:\n",
      " [[14  0  0]\n",
      " [ 1 16  0]\n",
      " [ 0  2  9]]\n"
     ]
    }
   ],
   "source": [
    "#Bagged Decision Trees\n",
    "\n",
    "from sklearn.ensemble import BaggingClassifier\n",
    "bgc = BaggingClassifier()\n",
    "bgc.fit(X_train, y_train)\n",
    "\n",
    "y_pred = bgc.predict(X_test)\n",
    "\n",
    "from sklearn import metrics\n",
    "acc_score = metrics.accuracy_score(y_test, y_pred)\n",
    "print(\"accuracy score:\",acc_score)\n",
    "\n",
    "# confusion matrix\n",
    "con_metrics = metrics.confusion_matrix(y_test, y_pred)\n",
    "print(\"\\n\\nconfusion matrix:\\n\",con_metrics)\n"
   ]
  },
  {
   "cell_type": "code",
   "execution_count": 25,
   "metadata": {},
   "outputs": [
    {
     "name": "stdout",
     "output_type": "stream",
     "text": [
      "accuracy score: 0.9761904761904762\n",
      "\n",
      "\n",
      "confusion matrix:\n",
      " [[14  0  0]\n",
      " [ 0 16  1]\n",
      " [ 0  0 11]]\n"
     ]
    }
   ],
   "source": [
    "# Random Forest Classification\n",
    "\n",
    "from sklearn.ensemble import RandomForestClassifier\n",
    "rfc = RandomForestClassifier()\n",
    "rfc.fit(X_train, y_train)\n",
    "\n",
    "y_pred = rfc.predict(X_test)\n",
    "\n",
    "from sklearn import metrics\n",
    "acc_score = metrics.accuracy_score(y_test, y_pred)\n",
    "print(\"accuracy score:\",acc_score)\n",
    "\n",
    "# confusion matrix\n",
    "con_metrics = metrics.confusion_matrix(y_test, y_pred)\n",
    "print(\"\\n\\nconfusion matrix:\\n\",con_metrics)\n"
   ]
  },
  {
   "cell_type": "code",
   "execution_count": 26,
   "metadata": {},
   "outputs": [
    {
     "name": "stdout",
     "output_type": "stream",
     "text": [
      "accuracy score: 0.8571428571428571\n",
      "\n",
      "\n",
      "confusion matrix:\n",
      " [[14  0  0]\n",
      " [ 1 16  0]\n",
      " [ 1  4  6]]\n"
     ]
    },
    {
     "name": "stderr",
     "output_type": "stream",
     "text": [
      "C:\\Users\\user\\Anaconda3\\lib\\site-packages\\sklearn\\preprocessing\\label.py:151: DeprecationWarning: The truth value of an empty array is ambiguous. Returning False, but in future this will result in an error. Use `array.size > 0` to check that an array is not empty.\n",
      "  if diff:\n"
     ]
    }
   ],
   "source": [
    "# Voting Ensemble (Decision Tree, Logistic Regression, SVM)\n",
    "\n",
    "from sklearn.linear_model import LogisticRegression\n",
    "from sklearn.svm import SVC\n",
    "from sklearn.tree import DecisionTreeClassifier\n",
    "from sklearn.ensemble import VotingClassifier\n",
    "\n",
    "clf1 = LogisticRegression()\n",
    "clf2 = SVC()\n",
    "clf3 = DecisionTreeClassifier()\n",
    "\n",
    "ensemble = VotingClassifier(estimators = [('Log Reg',clf1), ('SVM',clf2),('Dec Tree',clf3)])\n",
    "\n",
    "ensemble.fit(X_train, y_train)\n",
    "\n",
    "y_pred = ensemble.predict(X_test)\n",
    "\n",
    "from sklearn import metrics\n",
    "acc_score = metrics.accuracy_score(y_test, y_pred)\n",
    "print(\"accuracy score:\",acc_score)\n",
    "\n",
    "# confusion matrix\n",
    "con_metrics = metrics.confusion_matrix(y_test, y_pred)\n",
    "print(\"\\n\\nconfusion matrix:\\n\",con_metrics)\n",
    "\n"
   ]
  },
  {
   "cell_type": "code",
   "execution_count": null,
   "metadata": {},
   "outputs": [],
   "source": []
  }
 ],
 "metadata": {
  "kernelspec": {
   "display_name": "Python 3",
   "language": "python",
   "name": "python3"
  },
  "language_info": {
   "codemirror_mode": {
    "name": "ipython",
    "version": 3
   },
   "file_extension": ".py",
   "mimetype": "text/x-python",
   "name": "python",
   "nbconvert_exporter": "python",
   "pygments_lexer": "ipython3",
   "version": "3.6.5"
  }
 },
 "nbformat": 4,
 "nbformat_minor": 2
}
