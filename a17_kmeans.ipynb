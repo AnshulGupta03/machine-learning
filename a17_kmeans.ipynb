{
 "cells": [
  {
   "cell_type": "code",
   "execution_count": 6,
   "metadata": {},
   "outputs": [],
   "source": [
    "#Question 1.\n",
    "#Import dataset and save x and y \n",
    "\n",
    "from sklearn.datasets import load_digits\n",
    "digits = load_digits()\n",
    "x = digits.data\n",
    "y = digits.target\n"
   ]
  },
  {
   "cell_type": "code",
   "execution_count": 7,
   "metadata": {},
   "outputs": [
    {
     "data": {
      "text/plain": [
       "KMeans(algorithm='auto', copy_x=True, init='k-means++', max_iter=300,\n",
       "    n_clusters=10, n_init=10, n_jobs=1, precompute_distances='auto',\n",
       "    random_state=None, tol=0.0001, verbose=0)"
      ]
     },
     "execution_count": 7,
     "metadata": {},
     "output_type": "execute_result"
    }
   ],
   "source": [
    "#Question 2.\n",
    "#fit the data using k means\n",
    "from sklearn.cluster import KMeans\n",
    "kmeans = KMeans(n_clusters = 10)\n",
    "kmeans.fit(x)"
   ]
  },
  {
   "cell_type": "code",
   "execution_count": 29,
   "metadata": {},
   "outputs": [
    {
     "name": "stdout",
     "output_type": "stream",
     "text": [
      "[3 1 1 ... 1 4 4]\n"
     ]
    }
   ],
   "source": [
    "#predict the data using kmeans\n",
    "predict = kmeans.predict(x)\n",
    "print(predict)"
   ]
  },
  {
   "cell_type": "code",
   "execution_count": 30,
   "metadata": {},
   "outputs": [
    {
     "name": "stdout",
     "output_type": "stream",
     "text": [
      "[3 1 1 ... 1 4 4]\n"
     ]
    }
   ],
   "source": [
    "print(kmeans.labels_)"
   ]
  },
  {
   "cell_type": "code",
   "execution_count": 31,
   "metadata": {},
   "outputs": [],
   "source": [
    "#Question 3.\n",
    "#Use of zero_like() and mode() functions.\n",
    "\n",
    "import numpy as np\n",
    "from scipy.stats import mode\n",
    "from sklearn.metrics import accuracy_score,confusion_matrix\n",
    "labels = np.zeros_like(predict)\n",
    "for i in range(3):\n",
    "    mask = (predict==i)\n",
    "    labels[mask] = mode(y[mask])[0]\n"
   ]
  },
  {
   "cell_type": "code",
   "execution_count": 33,
   "metadata": {},
   "outputs": [
    {
     "name": "stdout",
     "output_type": "stream",
     "text": [
      "accuracy_score 0.31886477462437396\n",
      "\n",
      "confusion_matrix\n",
      " [[178   0   0   0   0   0   0   0   0   0]\n",
      " [ 81   0   0   1   0   1   0   0  99   0]\n",
      " [156   0   0  13   0   0   0   0   8   0]\n",
      " [ 17   0   0 157   0   2   0   0   7   0]\n",
      " [178   0   0   0   0   0   0   0   3   0]\n",
      " [ 45   0   0   1   0 136   0   0   0   0]\n",
      " [179   0   0   0   0   0   0   0   2   0]\n",
      " [177   0   0   0   0   0   0   0   2   0]\n",
      " [ 65   0   0   3   0   4   0   0 102   0]\n",
      " [166   0   0   6   0   6   0   0   2   0]]\n"
     ]
    }
   ],
   "source": [
    "#Question 4.\n",
    "\n",
    "print(\"accuracy_score\",accuracy_score(y,labels))\n",
    "print(\"\\nconfusion_matrix\\n\",confusion_matrix(y, labels))"
   ]
  },
  {
   "cell_type": "code",
   "execution_count": 48,
   "metadata": {},
   "outputs": [
    {
     "name": "stderr",
     "output_type": "stream",
     "text": [
      "C:\\Users\\user\\Anaconda3\\lib\\site-packages\\sklearn\\datasets\\base.py:762: DeprecationWarning: `imread` is deprecated!\n",
      "`imread` is deprecated in SciPy 1.0.0, and will be removed in 1.2.0.\n",
      "Use ``imageio.imread`` instead.\n",
      "  images = [imread(filename) for filename in filenames]\n",
      "C:\\Users\\user\\Anaconda3\\lib\\site-packages\\sklearn\\datasets\\base.py:762: DeprecationWarning: `imread` is deprecated!\n",
      "`imread` is deprecated in SciPy 1.0.0, and will be removed in 1.2.0.\n",
      "Use ``imageio.imread`` instead.\n",
      "  images = [imread(filename) for filename in filenames]\n"
     ]
    },
    {
     "data": {
      "text/plain": [
       "<matplotlib.image.AxesImage at 0x20099800f60>"
      ]
     },
     "execution_count": 48,
     "metadata": {},
     "output_type": "execute_result"
    }
   ],
   "source": [
    "#IMAGE\n",
    "#Question 1.\n",
    "from sklearn.datasets import load_sample_image\n",
    "import matplotlib.pyplot as plt\n",
    "flower = load_sample_image('flower.jpg')\n",
    "plt.imshow(flower)"
   ]
  },
  {
   "cell_type": "code",
   "execution_count": 47,
   "metadata": {},
   "outputs": [
    {
     "name": "stdout",
     "output_type": "stream",
     "text": [
      "(427, 640, 3)\n"
     ]
    }
   ],
   "source": [
    "#Question 2.\n",
    "\n",
    "print(flower.shape)"
   ]
  },
  {
   "cell_type": "code",
   "execution_count": 51,
   "metadata": {},
   "outputs": [
    {
     "name": "stdout",
     "output_type": "stream",
     "text": [
      "(273280, 3)\n"
     ]
    }
   ],
   "source": [
    "#Question 3.\n",
    "#reshape the dimensions\n",
    "x, y, z = flower.shape\n",
    "image_2d = flower.reshape(x*y, z)\n",
    "print(image_2d.shape)"
   ]
  },
  {
   "cell_type": "code",
   "execution_count": 54,
   "metadata": {},
   "outputs": [
    {
     "data": {
      "text/plain": [
       "KMeans(algorithm='auto', copy_x=True, init='k-means++', max_iter=300,\n",
       "    n_clusters=7, n_init=10, n_jobs=1, precompute_distances='auto',\n",
       "    random_state=None, tol=0.0001, verbose=0)"
      ]
     },
     "execution_count": 54,
     "metadata": {},
     "output_type": "execute_result"
    }
   ],
   "source": [
    "#Question 4.\n",
    "#fit the clusters into 7 clusters\n",
    "kmeans = KMeans(n_clusters = 7)\n",
    "kmeans.fit(image_2d)\n"
   ]
  }
 ],
 "metadata": {
  "kernelspec": {
   "display_name": "Python 3",
   "language": "python",
   "name": "python3"
  },
  "language_info": {
   "codemirror_mode": {
    "name": "ipython",
    "version": 3
   },
   "file_extension": ".py",
   "mimetype": "text/x-python",
   "name": "python",
   "nbconvert_exporter": "python",
   "pygments_lexer": "ipython3",
   "version": "3.6.5"
  }
 },
 "nbformat": 4,
 "nbformat_minor": 2
}
