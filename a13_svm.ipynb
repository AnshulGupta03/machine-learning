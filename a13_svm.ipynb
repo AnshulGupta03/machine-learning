{
 "cells": [
  {
   "cell_type": "code",
   "execution_count": 33,
   "metadata": {},
   "outputs": [],
   "source": [
    "#Question 1.\n",
    "from sklearn.datasets import load_digits\n",
    "digits = load_digits()\n"
   ]
  },
  {
   "cell_type": "code",
   "execution_count": 34,
   "metadata": {},
   "outputs": [
    {
     "name": "stdout",
     "output_type": "stream",
     "text": [
      "(1797, 64)\n",
      "(1797,)\n"
     ]
    }
   ],
   "source": [
    "#Question 2.\n",
    "x = digits.data\n",
    "y = digits.target\n",
    "from sklearn.model_selection import train_test_split\n",
    "X_train,X_test,y_train,y_test = train_test_split(x,y,test_size = 0.3,random_state = 0)\n",
    "print(x.shape)\n",
    "print(y.shape)"
   ]
  },
  {
   "cell_type": "code",
   "execution_count": 35,
   "metadata": {},
   "outputs": [
    {
     "name": "stdout",
     "output_type": "stream",
     "text": [
      "Confusion matrix\n",
      "\n",
      " [[44  0  0  0  0  0  1  0  0  0]\n",
      " [ 0 48  0  0  0  1  1  0  2  0]\n",
      " [ 0  0 52  0  0  0  0  1  0  0]\n",
      " [ 0  0  0 53  0  0  0  0  1  0]\n",
      " [ 0  0  0  0 48  0  0  0  0  0]\n",
      " [ 0  1  0  0  0 54  1  0  0  1]\n",
      " [ 0  1  0  0  0  0 59  0  0  0]\n",
      " [ 0  1  0  0  0  0  0 52  0  0]\n",
      " [ 0  2  0  1  0  0  1  0 55  2]\n",
      " [ 0  0  0  0  0  1  0  0  0 56]]\n",
      "\n",
      "\n",
      "Classification report by using poly kernel\n",
      "\n",
      "              precision    recall  f1-score   support\n",
      "\n",
      "          0       1.00      0.98      0.99        45\n",
      "          1       0.91      0.92      0.91        52\n",
      "          2       1.00      0.98      0.99        53\n",
      "          3       0.98      0.98      0.98        54\n",
      "          4       1.00      1.00      1.00        48\n",
      "          5       0.96      0.95      0.96        57\n",
      "          6       0.94      0.98      0.96        60\n",
      "          7       0.98      0.98      0.98        53\n",
      "          8       0.95      0.90      0.92        61\n",
      "          9       0.95      0.98      0.97        57\n",
      "\n",
      "avg / total       0.97      0.96      0.96       540\n",
      "\n"
     ]
    }
   ],
   "source": [
    "#Question 3.\n",
    "#poly kernel\n",
    "from sklearn.svm import SVC\n",
    "svclassifier = SVC(kernel = 'poly',degree = 8)\n",
    "svclassifier.fit(X_train,y_train)\n",
    "y_pred = svclassifier.predict(X_test)\n",
    "from sklearn.metrics import classification_report,confusion_matrix\n",
    "print(\"Confusion matrix\\n\\n\",confusion_matrix(y_test,y_pred))\n",
    "print(\"\\n\\nClassification report by using poly kernel\\n\\n\",classification_report(y_test,y_pred))"
   ]
  },
  {
   "cell_type": "code",
   "execution_count": 29,
   "metadata": {},
   "outputs": [
    {
     "name": "stdout",
     "output_type": "stream",
     "text": [
      "Confusion matrix\n",
      "\n",
      " [[45  0  0  0  0  0  0  0  0  0]\n",
      " [ 0 51  0  0  0  0  0  0  1  0]\n",
      " [ 0  0 53  0  0  0  0  0  0  0]\n",
      " [ 0  0  0 53  0  0  0  0  1  0]\n",
      " [ 0  0  0  0 48  0  0  0  0  0]\n",
      " [ 0  0  0  0  0 56  0  0  0  1]\n",
      " [ 0  1  0  0  0  0 59  0  0  0]\n",
      " [ 0  0  0  0  2  0  0 51  0  0]\n",
      " [ 0  3  1  1  0  0  0  0 55  1]\n",
      " [ 0  0  0  1  0  1  0  0  0 55]]\n",
      "\n",
      "\n",
      "Classification report by using linear kernel\n",
      "\n",
      "              precision    recall  f1-score   support\n",
      "\n",
      "          0       1.00      1.00      1.00        45\n",
      "          1       0.93      0.98      0.95        52\n",
      "          2       0.98      1.00      0.99        53\n",
      "          3       0.96      0.98      0.97        54\n",
      "          4       0.96      1.00      0.98        48\n",
      "          5       0.98      0.98      0.98        57\n",
      "          6       1.00      0.98      0.99        60\n",
      "          7       1.00      0.96      0.98        53\n",
      "          8       0.96      0.90      0.93        61\n",
      "          9       0.96      0.96      0.96        57\n",
      "\n",
      "avg / total       0.97      0.97      0.97       540\n",
      "\n"
     ]
    }
   ],
   "source": [
    "#Linear kernel\n",
    "from sklearn.svm import SVC\n",
    "svclassifier = SVC(kernel = 'linear')\n",
    "svclassifier.fit(X_train,y_train)\n",
    "y_pred = svclassifier.predict(X_test)\n",
    "from sklearn.metrics import classification_report,confusion_matrix\n",
    "print(\"Confusion matrix\\n\\n\",confusion_matrix(y_test,y_pred))\n",
    "print(\"\\n\\nClassification report by using linear kernel\\n\\n\",classification_report(y_test,y_pred))"
   ]
  },
  {
   "cell_type": "code",
   "execution_count": 30,
   "metadata": {},
   "outputs": [
    {
     "name": "stdout",
     "output_type": "stream",
     "text": [
      "Confusion matrix\n",
      "\n",
      " [[32  0  0  0 13  0  0  0  0  0]\n",
      " [ 0 16  0  0 36  0  0  0  0  0]\n",
      " [ 0  0 19  0 34  0  0  0  0  0]\n",
      " [ 0  0  0 43 11  0  0  0  0  0]\n",
      " [ 0  0  0  0 48  0  0  0  0  0]\n",
      " [ 0  0  0  0 37 20  0  0  0  0]\n",
      " [ 0  0  0  0 27  0 33  0  0  0]\n",
      " [ 0  0  0  0 35  0  0 18  0  0]\n",
      " [ 0  0  0  0 60  0  0  0  1  0]\n",
      " [ 0  0  0  0 32  0  0  0  0 25]]\n",
      "\n",
      "\n",
      "Classification report by using poly kernel\n",
      "\n",
      "              precision    recall  f1-score   support\n",
      "\n",
      "          0       1.00      0.71      0.83        45\n",
      "          1       1.00      0.31      0.47        52\n",
      "          2       1.00      0.36      0.53        53\n",
      "          3       1.00      0.80      0.89        54\n",
      "          4       0.14      1.00      0.25        48\n",
      "          5       1.00      0.35      0.52        57\n",
      "          6       1.00      0.55      0.71        60\n",
      "          7       1.00      0.34      0.51        53\n",
      "          8       1.00      0.02      0.03        61\n",
      "          9       1.00      0.44      0.61        57\n",
      "\n",
      "avg / total       0.92      0.47      0.53       540\n",
      "\n"
     ]
    }
   ],
   "source": [
    "#Guassian kernel\n",
    "from sklearn.svm import SVC\n",
    "svclassifier = SVC(kernel = 'rbf')\n",
    "svclassifier.fit(X_train,y_train)\n",
    "y_pred = svclassifier.predict(X_test)\n",
    "from sklearn.metrics import classification_report,confusion_matrix\n",
    "print(\"Confusion matrix\\n\\n\",confusion_matrix(y_test,y_pred))\n",
    "print(\"\\n\\nClassification report by using Gaussian kernel\\n\\n\",classification_report(y_test,y_pred))"
   ]
  },
  {
   "cell_type": "code",
   "execution_count": 31,
   "metadata": {},
   "outputs": [
    {
     "name": "stdout",
     "output_type": "stream",
     "text": [
      "Confusion matrix\n",
      "\n",
      " [[ 1  0  0  0 44  0  0  0  0  0]\n",
      " [ 0  0  0  0 52  0  0  0  0  0]\n",
      " [ 0  0  0  0 53  0  0  0  0  0]\n",
      " [ 2  0  0  0 52  0  0  0  0  0]\n",
      " [ 1  0  0  0 47  0  0  0  0  0]\n",
      " [ 0  0  0  0 57  0  0  0  0  0]\n",
      " [ 0  0  0  0 60  0  0  0  0  0]\n",
      " [ 0  0  0  0 53  0  0  0  0  0]\n",
      " [ 0  0  0  0 61  0  0  0  0  0]\n",
      " [ 0  0  0  0 57  0  0  0  0  0]]\n",
      "\n",
      "\n",
      "Classification report by using sigmoid kernel\n",
      "\n",
      "              precision    recall  f1-score   support\n",
      "\n",
      "          0       0.25      0.02      0.04        45\n",
      "          1       0.00      0.00      0.00        52\n",
      "          2       0.00      0.00      0.00        53\n",
      "          3       0.00      0.00      0.00        54\n",
      "          4       0.09      0.98      0.16        48\n",
      "          5       0.00      0.00      0.00        57\n",
      "          6       0.00      0.00      0.00        60\n",
      "          7       0.00      0.00      0.00        53\n",
      "          8       0.00      0.00      0.00        61\n",
      "          9       0.00      0.00      0.00        57\n",
      "\n",
      "avg / total       0.03      0.09      0.02       540\n",
      "\n"
     ]
    },
    {
     "name": "stderr",
     "output_type": "stream",
     "text": [
      "C:\\Users\\user\\Anaconda3\\lib\\site-packages\\sklearn\\metrics\\classification.py:1135: UndefinedMetricWarning: Precision and F-score are ill-defined and being set to 0.0 in labels with no predicted samples.\n",
      "  'precision', 'predicted', average, warn_for)\n"
     ]
    }
   ],
   "source": [
    "#Sigmoid kernel\n",
    "from sklearn.svm import SVC\n",
    "svclassifier = SVC(kernel = 'sigmoid')\n",
    "svclassifier.fit(X_train,y_train)\n",
    "y_pred = svclassifier.predict(X_test)\n",
    "from sklearn.metrics import classification_report,confusion_matrix\n",
    "print(\"Confusion matrix\\n\\n\",confusion_matrix(y_test,y_pred))\n",
    "print(\"\\n\\nClassification report by using sigmoid kernel\\n\\n\",classification_report(y_test,y_pred))"
   ]
  },
  {
   "cell_type": "code",
   "execution_count": null,
   "metadata": {},
   "outputs": [],
   "source": []
  }
 ],
 "metadata": {
  "kernelspec": {
   "display_name": "Python 3",
   "language": "python",
   "name": "python3"
  },
  "language_info": {
   "codemirror_mode": {
    "name": "ipython",
    "version": 3
   },
   "file_extension": ".py",
   "mimetype": "text/x-python",
   "name": "python",
   "nbconvert_exporter": "python",
   "pygments_lexer": "ipython3",
   "version": "3.6.5"
  }
 },
 "nbformat": 4,
 "nbformat_minor": 2
}
