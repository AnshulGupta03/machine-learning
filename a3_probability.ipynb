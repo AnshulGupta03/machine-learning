{
 "cells": [
  {
   "cell_type": "code",
   "execution_count": 6,
   "metadata": {},
   "outputs": [
    {
     "name": "stdout",
     "output_type": "stream",
     "text": [
      "probability of b given a =  0.0303030303030303\n"
     ]
    }
   ],
   "source": [
    "#Question 1.\n",
    "def prob(p_a,p_b,p_aGb):\n",
    "    p_aIb = p_aGb * p_b\n",
    "    p_bIa = p_aIb\n",
    "    p_bGa = p_bIa / p_a\n",
    "    print(\"probability of b given a = \",p_bGa)\n",
    "    \n",
    "p_a = float(11/36)\n",
    "p_b = float(6/36)\n",
    "p_aGb = float(2/36)\n",
    "prob(p_a,p_b,p_aGb)"
   ]
  },
  {
   "cell_type": "code",
   "execution_count": null,
   "metadata": {},
   "outputs": [],
   "source": [
    "#Question 2.\n",
    "Let B1 be the event of choosing the bag I,B2 be the event of choosing the bag II and A be the event of drawing a black ball.\n",
    "Then, P(B1) = P(B2) =1/2\n",
    "Also, P(A|B1) = P(drawing a black ball from Bag I) = 6/10 = 3/5\n",
    "P(A|B2) = P(drawing a black ball from Bag II) = 3/7\n",
    "By using Bayes’ theorem, the probability of drawing a black ball from bag I ,\n",
    "P(B1|A) = (P(B1)P(A|B1)) / (P(B1)P(A│B1)+P(B2)P(A|B2))\n",
    "        = ((1/2)*(3/5)) / (((1/2)*(3/5)) + ((1/2)*(3/7)))\n",
    "        = 7/12"
   ]
  },
  {
   "cell_type": "code",
   "execution_count": null,
   "metadata": {},
   "outputs": [],
   "source": [
    "#Question 3.\n",
    "Let E be the event that the man reports that four occurs in the throwing of the die.\n",
    "A be the event that four occurs and B be the event that four does not occur.\n",
    "p(A) = 1/6\n",
    "p(B) = 1-1/6 = 5/6\n",
    "p(E/A) = 2/3\n",
    "p(E/B) = 1-2/3 = 1/3\n",
    "Hence by Baye's theorem we get,\n",
    "P(A/E)=Probability that the number obtained is actually a four\n",
    "      = (P(E/A)*P(A)) / ((P(E/A)*P(A)) + (P(E/B)*P(B))) \n",
    "      = ((2/3)*(1/6)) / ((2/3)*(1/6)) + (1/3)*(5/6)))\n",
    "      = 2/7"
   ]
  }
 ],
 "metadata": {
  "kernelspec": {
   "display_name": "Python 3",
   "language": "python",
   "name": "python3"
  },
  "language_info": {
   "codemirror_mode": {
    "name": "ipython",
    "version": 3
   },
   "file_extension": ".py",
   "mimetype": "text/x-python",
   "name": "python",
   "nbconvert_exporter": "python",
   "pygments_lexer": "ipython3",
   "version": "3.6.5"
  }
 },
 "nbformat": 4,
 "nbformat_minor": 2
}
