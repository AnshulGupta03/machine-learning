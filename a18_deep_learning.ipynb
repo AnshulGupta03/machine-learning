{
 "cells": [
  {
   "cell_type": "code",
   "execution_count": 1,
   "metadata": {},
   "outputs": [
    {
     "data": {
      "text/plain": [
       "'\\nGiven:\\na, b, and c are inputs\\nu = a * b\\nv = a * c\\nw = b + c\\nF = u + v - w\\nFind the value of F in simplest form.\\n\\nSOLUTION:\\nF = (a*b) + (a*c) - (b+c)  # substituting the values of u,v and w \\nF = a*(b+c) - (b+c)    # taking a as common\\nF = (b+c)(a-1) #It is the simplest form\\n'"
      ]
     },
     "execution_count": 1,
     "metadata": {},
     "output_type": "execute_result"
    }
   ],
   "source": [
    "#Question 1.\n",
    "'''\n",
    "Given:\n",
    "a, b, and c are inputs\n",
    "u = a * b\n",
    "v = a * c\n",
    "w = b + c\n",
    "F = u + v - w\n",
    "Find the value of F in simplest form.\n",
    "\n",
    "SOLUTION:\n",
    "F = (a*b) + (a*c) - (b+c)  # substituting the values of u,v and w \n",
    "F = a*(b+c) - (b+c)    # taking a as common\n",
    "F = (b+c)(a-1) #It is the simplest form\n",
    "'''"
   ]
  },
  {
   "cell_type": "code",
   "execution_count": null,
   "metadata": {},
   "outputs": [],
   "source": [
    "#Question 2.\n",
    "'''\n",
    "Given :\n",
    "b = -1.1\n",
    "w1 = 2.7\n",
    "w2 = -8.6\n",
    "w3 = 0.002\n",
    "x1 = -0.06\n",
    "x2 = -2.5\n",
    "x3 = 1.4\n",
    "f(x) = 1/(1+e^(-x))\n",
    "\n",
    "Solution:\n",
    "x = w3*x3 + w2*x2 + w1*x1 + b\n",
    "x = (0.002*1.4) + (-8.6 * -2.5) + (2.7 * -0.06) + (-1.1)\n",
    "x = 20.2408\n",
    "f(x) = 1\n",
    "\n",
    "No, there is no change.\n",
    "We need bias because if a neural network does not have a \n",
    "bias node in a given layer, it will not be able to produce \n",
    "output in the next layer that differs from 0.\n",
    "\n",
    "'''"
   ]
  },
  {
   "cell_type": "code",
   "execution_count": null,
   "metadata": {},
   "outputs": [],
   "source": []
  }
 ],
 "metadata": {
  "kernelspec": {
   "display_name": "Python 3",
   "language": "python",
   "name": "python3"
  },
  "language_info": {
   "codemirror_mode": {
    "name": "ipython",
    "version": 3
   },
   "file_extension": ".py",
   "mimetype": "text/x-python",
   "name": "python",
   "nbconvert_exporter": "python",
   "pygments_lexer": "ipython3",
   "version": "3.6.5"
  }
 },
 "nbformat": 4,
 "nbformat_minor": 2
}
